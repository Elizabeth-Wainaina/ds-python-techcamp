{
 "cells": [
  {
   "cell_type": "markdown",
   "metadata": {},
   "source": [
    "## Supervised Machine learning \n",
    "* has two variables = input and output , if there is a new input it can predict the level of output \n",
    "* has a correct answer + a teacher\n",
    "* training a model or function = you have some data and it is used to come up with a mode . Fitting is the same but a bit more statistical. \n",
    "* train set split = you select a certain percentage of the data\n",
    "\n",
    "* two types:-\n",
    "    * regression = predicts (continous) variables outputs(numbers) and classification = preidcts dicrete outputs , (low, medium, high, male or female). \n",
    "    __LINEAR REGRESSION__\n",
    "        * linear relationship between two or more variables, if the relationship is linear = *straight line* if not we get *line of best fit*.\n",
    "        * 2 dimensions = straight line, 3 dimensions = plane and more than 3 = hyper dimensaions \n",
    "\n",
    "## Unsupervised Machine learning \n",
    "* there is only one variable = input \n",
    "* there is no correct answer or teacher \n",
    "* tells you about data you dont koiw such as trends \n",
    "* the problems can be grouped to clustering and association \n",
    "    * clustering = discover inherent grouping of data such as purchasing behaviour through getting their customers from loyalty cards. \n",
    "    * association = discover rules that will describe the data such people who buy good X will also buy Y.\n",
    " \n",
    "## Semi-supervised Machine learning \n",
    "* between supervised and unsupervised \n",
    "* when there is input and most of the data is labeled Y.\n",
    "* e.g photo book , where some are labelled and majority aren't.\n",
    "\n"
   ]
  },
  {
   "cell_type": "code",
   "execution_count": null,
   "metadata": {},
   "outputs": [],
   "source": []
  }
 ],
 "metadata": {
  "kernelspec": {
   "display_name": "Python 3",
   "language": "python",
   "name": "python3"
  },
  "language_info": {
   "codemirror_mode": {
    "name": "ipython",
    "version": 3
   },
   "file_extension": ".py",
   "mimetype": "text/x-python",
   "name": "python",
   "nbconvert_exporter": "python",
   "pygments_lexer": "ipython3",
   "version": "3.7.6"
  }
 },
 "nbformat": 4,
 "nbformat_minor": 4
}
