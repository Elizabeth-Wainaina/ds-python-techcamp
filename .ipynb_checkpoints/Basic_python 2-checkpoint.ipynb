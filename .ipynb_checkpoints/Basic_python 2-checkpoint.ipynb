{
 "cells": [
  {
   "cell_type": "code",
   "execution_count": 1,
   "metadata": {},
   "outputs": [
    {
     "name": "stdout",
     "output_type": "stream",
     "text": [
      "[21, 23, 25, 27, 29, 31, 33, 35, 37, 39, 41, 43, 45, 47, 49, 51, 53, 55, 57, 59, 61, 63, 65, 67, 69, 71, 73, 75, 77, 79, 81, 83, 85, 87, 89, 91, 93, 95, 97, 99, 101, 103, 105, 107, 109, 111, 113, 115, 117, 119]\n"
     ]
    }
   ],
   "source": [
    "# print odd numbers in the range \n",
    "odd = []\n",
    "start, end = 20, 120\n",
    "for num in range(start,end+1):\n",
    "    if num % 2 != 0:\n",
    "        odd.append(num)\n",
    "print(odd)"
   ]
  },
  {
   "cell_type": "code",
   "execution_count": 2,
   "metadata": {},
   "outputs": [
    {
     "name": "stdout",
     "output_type": "stream",
     "text": [
      "{'21': 21, '23': 23, '25': 25, '27': 27, '29': 29, '31': 31, '33': 33, '35': 35, '37': 37, '39': 39, '41': 41, '43': 43, '45': 45, '47': 47, '49': 49, '51': 51, '53': 53, '55': 55, '57': 57, '59': 59, '61': 61, '63': 63, '65': 65, '67': 67, '69': 69, '71': 71, '73': 73, '75': 75, '77': 77, '79': 79, '81': 81, '83': 83, '85': 85, '87': 87, '89': 89, '91': 91, '93': 93, '95': 95, '97': 97, '99': 99, '101': 101, '103': 103, '105': 105, '107': 107, '109': 109, '111': 111, '113': 113, '115': 115, '117': 117, '119': 119}\n"
     ]
    }
   ],
   "source": [
    "# generate a dictionary \n",
    "dict1 = {}\n",
    "ls = range (20,120)\n",
    "for num in ls:\n",
    "    if num % 2 != 0:\n",
    "        dict1[str(num)] = num \n",
    "print(dict1)\n",
    "      "
   ]
  },
  {
   "cell_type": "code",
   "execution_count": 3,
   "metadata": {},
   "outputs": [
    {
     "name": "stdout",
     "output_type": "stream",
     "text": [
      "91\n"
     ]
    }
   ],
   "source": [
    "# display 91\n",
    "print(dict1[\"91\"])"
   ]
  },
  {
   "cell_type": "code",
   "execution_count": 7,
   "metadata": {},
   "outputs": [
    {
     "name": "stdout",
     "output_type": "stream",
     "text": [
      "[1, 4, 9, 16, 25, 36, 49, 64, 81, 100]\n"
     ]
    }
   ],
   "source": [
    "# square of the number in a range \n",
    "l = []\n",
    "for num in range(1,11):\n",
    "    square = num*num\n",
    "    l.append(square)\n",
    "print(l)"
   ]
  },
  {
   "cell_type": "code",
   "execution_count": 15,
   "metadata": {},
   "outputs": [
    {
     "name": "stdout",
     "output_type": "stream",
     "text": [
      "<class 'set'>\n",
      "[1, 4, 9, 16, 21, 23, 25, 27, 29, 31, 33, 35, 36, 37, 39, 41, 43, 45, 47, 49, 51, 53, 55, 57, 59, 61, 63, 64, 65, 67, 69, 71, 73, 75, 77, 79, 81, 83, 85, 87, 89, 91, 93, 95, 97, 99, 100, 101, 103, 105, 107, 109, 111, 113, 115, 117, 119]\n",
      "(1, 4, 9, 16, 21, 23, 25, 27, 29, 31, 33, 35, 36, 37, 39, 41, 43, 45, 47, 49, 51, 53, 55, 57, 59, 61, 63, 64, 65, 67, 69, 71, 73, 75, 77, 79, 81, 83, 85, 87, 89, 91, 93, 95, 97, 99, 100, 101, 103, 105, 107, 109, 111, 113, 115, 117, 119)\n"
     ]
    }
   ],
   "source": [
    "# repetition, the set will give unique figure. \n",
    "# to change the datatype put e.g print(list())\n",
    "newList = set(odd+l+odd)\n",
    "print(type(newList))\n",
    "print(list(newList))\n",
    "print(tuple(newList))\n"
   ]
  },
  {
   "cell_type": "code",
   "execution_count": null,
   "metadata": {},
   "outputs": [],
   "source": []
  }
 ],
 "metadata": {
  "kernelspec": {
   "display_name": "Python 3",
   "language": "python",
   "name": "python3"
  },
  "language_info": {
   "codemirror_mode": {
    "name": "ipython",
    "version": 3
   },
   "file_extension": ".py",
   "mimetype": "text/x-python",
   "name": "python",
   "nbconvert_exporter": "python",
   "pygments_lexer": "ipython3",
   "version": "3.7.6"
  }
 },
 "nbformat": 4,
 "nbformat_minor": 4
}
